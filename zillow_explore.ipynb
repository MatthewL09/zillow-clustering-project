{
 "cells": [
  {
   "cell_type": "code",
   "execution_count": 1,
   "id": "c4e9d4e0-d69f-4a5d-80aa-cc3483c816ea",
   "metadata": {},
   "outputs": [],
   "source": [
    "import pandas as pd\n",
    "import numpy as np\n",
    "import matplotlib.pyplot as plt\n",
    "import seaborn as sns\n",
    "\n",
    "from sklearn.model_selection import train_test_split\n",
    "from sklearn.preprocessing import MinMaxScaler\n",
    "\n",
    "\n",
    "import env\n",
    "import wrangle\n",
    "import os\n",
    "\n",
    "# turn off pink boxes for demo\n",
    "import warnings\n",
    "warnings.filterwarnings(\"ignore\")"
   ]
  },
  {
   "cell_type": "code",
   "execution_count": 2,
   "id": "2a8ed969-d196-4153-a860-0eb11c715cc4",
   "metadata": {},
   "outputs": [
    {
     "name": "stdout",
     "output_type": "stream",
     "text": [
      "Using cached csv\n"
     ]
    }
   ],
   "source": [
    "# acquire the data\n",
    "df = wrangle.get_zillow_data()"
   ]
  },
  {
   "cell_type": "code",
   "execution_count": 3,
   "id": "02febe9d-22ee-4e9d-bce9-c6bb784790cd",
   "metadata": {},
   "outputs": [
    {
     "data": {
      "text/plain": [
       "(77580, 69)"
      ]
     },
     "execution_count": 3,
     "metadata": {},
     "output_type": "execute_result"
    }
   ],
   "source": [
    "# check shape of initial dataframe\n",
    "df.shape"
   ]
  },
  {
   "cell_type": "code",
   "execution_count": 5,
   "id": "916876c6-cb2d-4373-b6fe-4d14b176c038",
   "metadata": {},
   "outputs": [
    {
     "data": {
      "text/plain": [
       "(64838, 31)"
      ]
     },
     "execution_count": 5,
     "metadata": {},
     "output_type": "execute_result"
    }
   ],
   "source": [
    "# clean df and check in with shape\n",
    "zillow = wrangle.clean_zillow(df)\n",
    "zillow.shape"
   ]
  },
  {
   "cell_type": "code",
   "execution_count": 6,
   "id": "fd24fae3-c5c7-4b7c-a843-115544ebb040",
   "metadata": {},
   "outputs": [
    {
     "data": {
      "text/plain": [
       "((36309, 31), (15561, 31), (12968, 31))"
      ]
     },
     "execution_count": 6,
     "metadata": {},
     "output_type": "execute_result"
    }
   ],
   "source": [
    "# split the data \n",
    "train, validate, test = wrangle.split_data(zillow)\n",
    "\n",
    "# check the size of the splits\n",
    "train.shape, validate.shape, test.shape"
   ]
  },
  {
   "cell_type": "code",
   "execution_count": 7,
   "id": "614bb81a-2f39-40dc-920a-b028a3ae38b3",
   "metadata": {},
   "outputs": [],
   "source": [
    "# run my handle_nulls function on splits, data is now ready for exploration\n",
    "train, validate, test = wrangle.handle_nulls(train, validate, test)"
   ]
  },
  {
   "cell_type": "code",
   "execution_count": 9,
   "id": "33beabf2-2653-49b1-a2d0-b9f82ea9b248",
   "metadata": {},
   "outputs": [
    {
     "data": {
      "text/html": [
       "<div>\n",
       "<style scoped>\n",
       "    .dataframe tbody tr th:only-of-type {\n",
       "        vertical-align: middle;\n",
       "    }\n",
       "\n",
       "    .dataframe tbody tr th {\n",
       "        vertical-align: top;\n",
       "    }\n",
       "\n",
       "    .dataframe thead th {\n",
       "        text-align: right;\n",
       "    }\n",
       "</style>\n",
       "<table border=\"1\" class=\"dataframe\">\n",
       "  <thead>\n",
       "    <tr style=\"text-align: right;\">\n",
       "      <th></th>\n",
       "      <th>bathroomcnt</th>\n",
       "      <th>bedroomcnt</th>\n",
       "      <th>calculatedfinishedsquarefeet</th>\n",
       "      <th>finishedsquarefeet12</th>\n",
       "      <th>latitude</th>\n",
       "      <th>longitude</th>\n",
       "      <th>lotsizesquarefeet</th>\n",
       "      <th>regionidcity</th>\n",
       "      <th>regionidcounty</th>\n",
       "      <th>regionidzip</th>\n",
       "      <th>...</th>\n",
       "      <th>taxamount</th>\n",
       "      <th>censustractandblock</th>\n",
       "      <th>logerror</th>\n",
       "      <th>age</th>\n",
       "      <th>sqft_per_bed</th>\n",
       "      <th>sqft_per_bath</th>\n",
       "      <th>total_rooms</th>\n",
       "      <th>bed_bath_rooms_per_sqft_living</th>\n",
       "      <th>taxrate</th>\n",
       "      <th>dollars_per_sqft</th>\n",
       "    </tr>\n",
       "  </thead>\n",
       "  <tbody>\n",
       "    <tr>\n",
       "      <th>count</th>\n",
       "      <td>36309.000000</td>\n",
       "      <td>36309.000000</td>\n",
       "      <td>36309.000000</td>\n",
       "      <td>36309.000000</td>\n",
       "      <td>3.630900e+04</td>\n",
       "      <td>3.630900e+04</td>\n",
       "      <td>3.630900e+04</td>\n",
       "      <td>36309.000000</td>\n",
       "      <td>36309.000000</td>\n",
       "      <td>36309.000000</td>\n",
       "      <td>...</td>\n",
       "      <td>36309.000000</td>\n",
       "      <td>3.630900e+04</td>\n",
       "      <td>36309.000000</td>\n",
       "      <td>36292.000000</td>\n",
       "      <td>36309.000000</td>\n",
       "      <td>36309.000000</td>\n",
       "      <td>36309.000000</td>\n",
       "      <td>36309.000000</td>\n",
       "      <td>36309.000000</td>\n",
       "      <td>36309.000000</td>\n",
       "    </tr>\n",
       "    <tr>\n",
       "      <th>mean</th>\n",
       "      <td>2.188163</td>\n",
       "      <td>2.964114</td>\n",
       "      <td>1646.273100</td>\n",
       "      <td>1646.825911</td>\n",
       "      <td>3.400769e+07</td>\n",
       "      <td>-1.181927e+08</td>\n",
       "      <td>2.907079e+04</td>\n",
       "      <td>33318.116032</td>\n",
       "      <td>2492.924729</td>\n",
       "      <td>96611.559365</td>\n",
       "      <td>...</td>\n",
       "      <td>4913.367200</td>\n",
       "      <td>6.051109e+13</td>\n",
       "      <td>0.006026</td>\n",
       "      <td>47.494627</td>\n",
       "      <td>567.913299</td>\n",
       "      <td>777.292013</td>\n",
       "      <td>5.152276</td>\n",
       "      <td>0.003314</td>\n",
       "      <td>0.013153</td>\n",
       "      <td>249.852225</td>\n",
       "    </tr>\n",
       "    <tr>\n",
       "      <th>std</th>\n",
       "      <td>0.794288</td>\n",
       "      <td>0.962418</td>\n",
       "      <td>696.358021</td>\n",
       "      <td>695.504066</td>\n",
       "      <td>2.705523e+05</td>\n",
       "      <td>3.660323e+05</td>\n",
       "      <td>1.275548e+05</td>\n",
       "      <td>46439.010715</td>\n",
       "      <td>814.940336</td>\n",
       "      <td>3580.529524</td>\n",
       "      <td>...</td>\n",
       "      <td>3150.326531</td>\n",
       "      <td>2.227418e+12</td>\n",
       "      <td>0.059216</td>\n",
       "      <td>22.637857</td>\n",
       "      <td>179.327222</td>\n",
       "      <td>233.614088</td>\n",
       "      <td>1.551306</td>\n",
       "      <td>0.000766</td>\n",
       "      <td>0.006519</td>\n",
       "      <td>149.292564</td>\n",
       "    </tr>\n",
       "    <tr>\n",
       "      <th>min</th>\n",
       "      <td>1.000000</td>\n",
       "      <td>1.000000</td>\n",
       "      <td>152.000000</td>\n",
       "      <td>152.000000</td>\n",
       "      <td>3.334062e+07</td>\n",
       "      <td>-1.194754e+08</td>\n",
       "      <td>4.350000e+02</td>\n",
       "      <td>3491.000000</td>\n",
       "      <td>1286.000000</td>\n",
       "      <td>95982.000000</td>\n",
       "      <td>...</td>\n",
       "      <td>49.180000</td>\n",
       "      <td>6.037101e+13</td>\n",
       "      <td>-0.204762</td>\n",
       "      <td>2.000000</td>\n",
       "      <td>30.400000</td>\n",
       "      <td>76.000000</td>\n",
       "      <td>2.000000</td>\n",
       "      <td>0.000655</td>\n",
       "      <td>0.000094</td>\n",
       "      <td>0.304507</td>\n",
       "    </tr>\n",
       "    <tr>\n",
       "      <th>25%</th>\n",
       "      <td>2.000000</td>\n",
       "      <td>2.000000</td>\n",
       "      <td>1156.000000</td>\n",
       "      <td>1158.000000</td>\n",
       "      <td>3.380661e+07</td>\n",
       "      <td>-1.184121e+08</td>\n",
       "      <td>6.000000e+03</td>\n",
       "      <td>12447.000000</td>\n",
       "      <td>1286.000000</td>\n",
       "      <td>96218.000000</td>\n",
       "      <td>...</td>\n",
       "      <td>2636.940000</td>\n",
       "      <td>6.037401e+13</td>\n",
       "      <td>-0.022814</td>\n",
       "      <td>30.000000</td>\n",
       "      <td>441.666667</td>\n",
       "      <td>613.333333</td>\n",
       "      <td>4.000000</td>\n",
       "      <td>0.002779</td>\n",
       "      <td>0.011639</td>\n",
       "      <td>144.545397</td>\n",
       "    </tr>\n",
       "    <tr>\n",
       "      <th>50%</th>\n",
       "      <td>2.000000</td>\n",
       "      <td>3.000000</td>\n",
       "      <td>1480.000000</td>\n",
       "      <td>1482.000000</td>\n",
       "      <td>3.401226e+07</td>\n",
       "      <td>-1.181559e+08</td>\n",
       "      <td>7.210000e+03</td>\n",
       "      <td>25218.000000</td>\n",
       "      <td>3101.000000</td>\n",
       "      <td>96414.000000</td>\n",
       "      <td>...</td>\n",
       "      <td>4274.090000</td>\n",
       "      <td>6.037621e+13</td>\n",
       "      <td>0.005383</td>\n",
       "      <td>46.000000</td>\n",
       "      <td>534.500000</td>\n",
       "      <td>746.000000</td>\n",
       "      <td>5.000000</td>\n",
       "      <td>0.003289</td>\n",
       "      <td>0.012281</td>\n",
       "      <td>237.722028</td>\n",
       "    </tr>\n",
       "    <tr>\n",
       "      <th>75%</th>\n",
       "      <td>3.000000</td>\n",
       "      <td>4.000000</td>\n",
       "      <td>1968.000000</td>\n",
       "      <td>1967.000000</td>\n",
       "      <td>3.418052e+07</td>\n",
       "      <td>-1.179110e+08</td>\n",
       "      <td>1.026600e+04</td>\n",
       "      <td>45398.000000</td>\n",
       "      <td>3101.000000</td>\n",
       "      <td>96993.000000</td>\n",
       "      <td>...</td>\n",
       "      <td>6415.340000</td>\n",
       "      <td>6.059052e+13</td>\n",
       "      <td>0.033109</td>\n",
       "      <td>63.000000</td>\n",
       "      <td>654.750000</td>\n",
       "      <td>903.000000</td>\n",
       "      <td>6.000000</td>\n",
       "      <td>0.003802</td>\n",
       "      <td>0.013469</td>\n",
       "      <td>330.603458</td>\n",
       "    </tr>\n",
       "    <tr>\n",
       "      <th>max</th>\n",
       "      <td>5.500000</td>\n",
       "      <td>8.000000</td>\n",
       "      <td>4610.000000</td>\n",
       "      <td>4610.000000</td>\n",
       "      <td>3.481877e+07</td>\n",
       "      <td>-1.175593e+08</td>\n",
       "      <td>6.971010e+06</td>\n",
       "      <td>396556.000000</td>\n",
       "      <td>3101.000000</td>\n",
       "      <td>399675.000000</td>\n",
       "      <td>...</td>\n",
       "      <td>17853.690000</td>\n",
       "      <td>4.830301e+14</td>\n",
       "      <td>0.218255</td>\n",
       "      <td>132.000000</td>\n",
       "      <td>3054.000000</td>\n",
       "      <td>3438.000000</td>\n",
       "      <td>13.000000</td>\n",
       "      <td>0.046053</td>\n",
       "      <td>0.816490</td>\n",
       "      <td>3872.229167</td>\n",
       "    </tr>\n",
       "  </tbody>\n",
       "</table>\n",
       "<p>8 rows × 26 columns</p>\n",
       "</div>"
      ],
      "text/plain": [
       "        bathroomcnt    bedroomcnt  calculatedfinishedsquarefeet  \\\n",
       "count  36309.000000  36309.000000                  36309.000000   \n",
       "mean       2.188163      2.964114                   1646.273100   \n",
       "std        0.794288      0.962418                    696.358021   \n",
       "min        1.000000      1.000000                    152.000000   \n",
       "25%        2.000000      2.000000                   1156.000000   \n",
       "50%        2.000000      3.000000                   1480.000000   \n",
       "75%        3.000000      4.000000                   1968.000000   \n",
       "max        5.500000      8.000000                   4610.000000   \n",
       "\n",
       "       finishedsquarefeet12      latitude     longitude  lotsizesquarefeet  \\\n",
       "count          36309.000000  3.630900e+04  3.630900e+04       3.630900e+04   \n",
       "mean            1646.825911  3.400769e+07 -1.181927e+08       2.907079e+04   \n",
       "std              695.504066  2.705523e+05  3.660323e+05       1.275548e+05   \n",
       "min              152.000000  3.334062e+07 -1.194754e+08       4.350000e+02   \n",
       "25%             1158.000000  3.380661e+07 -1.184121e+08       6.000000e+03   \n",
       "50%             1482.000000  3.401226e+07 -1.181559e+08       7.210000e+03   \n",
       "75%             1967.000000  3.418052e+07 -1.179110e+08       1.026600e+04   \n",
       "max             4610.000000  3.481877e+07 -1.175593e+08       6.971010e+06   \n",
       "\n",
       "        regionidcity  regionidcounty    regionidzip  ...     taxamount  \\\n",
       "count   36309.000000    36309.000000   36309.000000  ...  36309.000000   \n",
       "mean    33318.116032     2492.924729   96611.559365  ...   4913.367200   \n",
       "std     46439.010715      814.940336    3580.529524  ...   3150.326531   \n",
       "min      3491.000000     1286.000000   95982.000000  ...     49.180000   \n",
       "25%     12447.000000     1286.000000   96218.000000  ...   2636.940000   \n",
       "50%     25218.000000     3101.000000   96414.000000  ...   4274.090000   \n",
       "75%     45398.000000     3101.000000   96993.000000  ...   6415.340000   \n",
       "max    396556.000000     3101.000000  399675.000000  ...  17853.690000   \n",
       "\n",
       "       censustractandblock      logerror           age  sqft_per_bed  \\\n",
       "count         3.630900e+04  36309.000000  36292.000000  36309.000000   \n",
       "mean          6.051109e+13      0.006026     47.494627    567.913299   \n",
       "std           2.227418e+12      0.059216     22.637857    179.327222   \n",
       "min           6.037101e+13     -0.204762      2.000000     30.400000   \n",
       "25%           6.037401e+13     -0.022814     30.000000    441.666667   \n",
       "50%           6.037621e+13      0.005383     46.000000    534.500000   \n",
       "75%           6.059052e+13      0.033109     63.000000    654.750000   \n",
       "max           4.830301e+14      0.218255    132.000000   3054.000000   \n",
       "\n",
       "       sqft_per_bath   total_rooms  bed_bath_rooms_per_sqft_living  \\\n",
       "count   36309.000000  36309.000000                    36309.000000   \n",
       "mean      777.292013      5.152276                        0.003314   \n",
       "std       233.614088      1.551306                        0.000766   \n",
       "min        76.000000      2.000000                        0.000655   \n",
       "25%       613.333333      4.000000                        0.002779   \n",
       "50%       746.000000      5.000000                        0.003289   \n",
       "75%       903.000000      6.000000                        0.003802   \n",
       "max      3438.000000     13.000000                        0.046053   \n",
       "\n",
       "            taxrate  dollars_per_sqft  \n",
       "count  36309.000000      36309.000000  \n",
       "mean       0.013153        249.852225  \n",
       "std        0.006519        149.292564  \n",
       "min        0.000094          0.304507  \n",
       "25%        0.011639        144.545397  \n",
       "50%        0.012281        237.722028  \n",
       "75%        0.013469        330.603458  \n",
       "max        0.816490       3872.229167  \n",
       "\n",
       "[8 rows x 26 columns]"
      ]
     },
     "execution_count": 9,
     "metadata": {},
     "output_type": "execute_result"
    }
   ],
   "source": [
    "train.describe()"
   ]
  },
  {
   "cell_type": "code",
   "execution_count": 41,
   "id": "88d9654e-bfd5-4bba-a8a3-a64b7558247e",
   "metadata": {},
   "outputs": [
    {
     "data": {
      "text/plain": [
       "bathroomcnt                       float64\n",
       "bedroomcnt                        float64\n",
       "calculatedfinishedsquarefeet      float64\n",
       "finishedsquarefeet12              float64\n",
       "latitude                          float64\n",
       "longitude                         float64\n",
       "lotsizesquarefeet                 float64\n",
       "propertycountylandusecode          object\n",
       "regionidcity                      float64\n",
       "regionidcounty                    float64\n",
       "regionidzip                       float64\n",
       "roomcnt                           float64\n",
       "unitcnt                           float64\n",
       "structuretaxvaluedollarcnt        float64\n",
       "taxvaluedollarcnt                 float64\n",
       "assessmentyear                    float64\n",
       "landtaxvaluedollarcnt             float64\n",
       "taxamount                         float64\n",
       "censustractandblock               float64\n",
       "logerror                          float64\n",
       "transactiondate                    object\n",
       "heatingorsystemdesc                object\n",
       "propertylandusedesc                object\n",
       "county                             object\n",
       "age                               float64\n",
       "sqft_per_bed                      float64\n",
       "sqft_per_bath                     float64\n",
       "total_rooms                       float64\n",
       "bed_bath_rooms_per_sqft_living    float64\n",
       "taxrate                           float64\n",
       "dollars_per_sqft                  float64\n",
       "dtype: object"
      ]
     },
     "execution_count": 41,
     "metadata": {},
     "output_type": "execute_result"
    }
   ],
   "source": [
    "train.dtypes"
   ]
  },
  {
   "cell_type": "code",
   "execution_count": null,
   "id": "3bb5ccf7-b1ee-4a82-af97-11069dc4538a",
   "metadata": {},
   "outputs": [],
   "source": [
    "scaler = MinMaxScaler()\n",
    "cols = train.drop(columns = ['propertycountylandusecode', 'transactiondate', 'heatingorsystemdesc', 'county']).columns.tolist()\n",
    "\n",
    "# data needs to be split.\n",
    "# .copy function makes a proper copy\n",
    "\n",
    "train_scaled = train.copy()\n",
    "validate_scaled = validate.copy()\n",
    "test_scaled = test.copy()\n",
    "\n",
    "train_scaled[cols] = scaler.fit_transform(train[cols])\n",
    "validate_scaled[cols] = scaler.fit_transform(validate[cols])\n",
    "test_scaled[cols] = scaler.fit_transform(test[cols])"
   ]
  },
  {
   "cell_type": "code",
   "execution_count": 16,
   "id": "9cbd15e6-fdf0-4f60-8a4f-7038fe3d4565",
   "metadata": {},
   "outputs": [
    {
     "data": {
      "text/plain": [
       "['bathroomcnt',\n",
       " 'bedroomcnt',\n",
       " 'calculatedfinishedsquarefeet',\n",
       " 'finishedsquarefeet12',\n",
       " 'latitude',\n",
       " 'longitude',\n",
       " 'lotsizesquarefeet',\n",
       " 'propertycountylandusecode',\n",
       " 'regionidcity',\n",
       " 'regionidcounty',\n",
       " 'regionidzip',\n",
       " 'roomcnt',\n",
       " 'unitcnt',\n",
       " 'structuretaxvaluedollarcnt',\n",
       " 'taxvaluedollarcnt',\n",
       " 'assessmentyear',\n",
       " 'landtaxvaluedollarcnt',\n",
       " 'taxamount',\n",
       " 'censustractandblock',\n",
       " 'logerror',\n",
       " 'transactiondate',\n",
       " 'heatingorsystemdesc',\n",
       " 'propertylandusedesc',\n",
       " 'county',\n",
       " 'age',\n",
       " 'sqft_per_bed',\n",
       " 'sqft_per_bath',\n",
       " 'total_rooms',\n",
       " 'bed_bath_rooms_per_sqft_living',\n",
       " 'taxrate',\n",
       " 'dollars_per_sqft']"
      ]
     },
     "execution_count": 16,
     "metadata": {},
     "output_type": "execute_result"
    }
   ],
   "source": [
    "train.columns.tolist()"
   ]
  },
  {
   "cell_type": "code",
   "execution_count": 15,
   "id": "a4c275be-186f-487c-9d6e-500dae0ca910",
   "metadata": {},
   "outputs": [
    {
     "data": {
      "image/png": "[encoded data removed]",
      "text/plain": [
       "<Figure size 1728x720 with 30 Axes>"
      ]
     },
     "metadata": {
      "needs_background": "light"
     },
     "output_type": "display_data"
    }
   ],
   "source": [
    "train.hist(figsize = (24,10), bins = 20)\n",
    "plt.tight_layout()"
   ]
  },
  {
   "cell_type": "markdown",
   "id": "bf5fbf7a-4d0a-41a0-a7e1-75e4ffbb338a",
   "metadata": {},
   "source": [
    "# Does logerror change based on county?"
   ]
  },
  {
   "cell_type": "code",
   "execution_count": 32,
   "id": "d21f3918-251e-4d79-93f3-084559f94e80",
   "metadata": {},
   "outputs": [
    {
     "data": {
      "image/png": "[encoded data removed]",
      "text/plain": [
       "<Figure size 432x288 with 1 Axes>"
      ]
     },
     "metadata": {
      "needs_background": "light"
     },
     "output_type": "display_data"
    }
   ],
   "source": [
    "sns.boxplot(train.county, train.logerror,)\n",
    "plt.show()"
   ]
  },
  {
   "cell_type": "code",
   "execution_count": 19,
   "id": "0ee5fb33-c8b5-46c8-ae68-47eb49fb011b",
   "metadata": {},
   "outputs": [
    {
     "data": {
      "text/plain": [
       "county\n",
       "Los_Angeles    0.004948\n",
       "Orange         0.007553\n",
       "Ventura        0.008815\n",
       "Name: logerror, dtype: float64"
      ]
     },
     "execution_count": 19,
     "metadata": {},
     "output_type": "execute_result"
    }
   ],
   "source": [
    "train.groupby('county').logerror.mean()"
   ]
  },
  {
   "cell_type": "code",
   "execution_count": 22,
   "id": "0daee260-7370-4cf9-96bb-bd3084a6acc6",
   "metadata": {},
   "outputs": [
    {
     "data": {
      "text/plain": [
       "0.006026351023219386"
      ]
     },
     "execution_count": 22,
     "metadata": {},
     "output_type": "execute_result"
    }
   ],
   "source": [
    "train.logerror.mean()"
   ]
  },
  {
   "cell_type": "code",
   "execution_count": 33,
   "id": "53ab2cb1-cf52-4976-9116-c5004f86b105",
   "metadata": {},
   "outputs": [
    {
     "data": {
      "text/plain": [
       "<AxesSubplot:>"
      ]
     },
     "execution_count": 33,
     "metadata": {},
     "output_type": "execute_result"
    },
    {
     "data": {
      "image/png": "[encoded data removed]",
      "text/plain": [
       "<Figure size 432x288 with 1 Axes>"
      ]
     },
     "metadata": {
      "needs_background": "light"
     },
     "output_type": "display_data"
    }
   ],
   "source": [
    "ax = train[train.county == 'Los_Angeles'].logerror.hist(color = 'red')\n",
    "train[train.county == 'Orange'].logerror.hist(ax = ax, color = 'blue')\n",
    "train[train.county == 'Ventura'].logerror.hist(ax = ax, color = 'green')"
   ]
  },
  {
   "cell_type": "code",
   "execution_count": 34,
   "id": "abefef47-1a8a-438d-93de-41257744e644",
   "metadata": {},
   "outputs": [
    {
     "data": {
      "text/html": [
       "<div>\n",
       "<style scoped>\n",
       "    .dataframe tbody tr th:only-of-type {\n",
       "        vertical-align: middle;\n",
       "    }\n",
       "\n",
       "    .dataframe tbody tr th {\n",
       "        vertical-align: top;\n",
       "    }\n",
       "\n",
       "    .dataframe thead th {\n",
       "        text-align: right;\n",
       "    }\n",
       "</style>\n",
       "<table border=\"1\" class=\"dataframe\">\n",
       "  <thead>\n",
       "    <tr style=\"text-align: right;\">\n",
       "      <th></th>\n",
       "      <th>count</th>\n",
       "      <th>mean</th>\n",
       "      <th>std</th>\n",
       "      <th>min</th>\n",
       "      <th>25%</th>\n",
       "      <th>50%</th>\n",
       "      <th>75%</th>\n",
       "      <th>max</th>\n",
       "    </tr>\n",
       "    <tr>\n",
       "      <th>county</th>\n",
       "      <th></th>\n",
       "      <th></th>\n",
       "      <th></th>\n",
       "      <th></th>\n",
       "      <th></th>\n",
       "      <th></th>\n",
       "      <th></th>\n",
       "      <th></th>\n",
       "    </tr>\n",
       "  </thead>\n",
       "  <tbody>\n",
       "    <tr>\n",
       "      <th>Los_Angeles</th>\n",
       "      <td>22802.0</td>\n",
       "      <td>0.004948</td>\n",
       "      <td>0.062256</td>\n",
       "      <td>-0.204664</td>\n",
       "      <td>-0.026066</td>\n",
       "      <td>0.005349</td>\n",
       "      <td>0.034278</td>\n",
       "      <td>0.218255</td>\n",
       "    </tr>\n",
       "    <tr>\n",
       "      <th>Orange</th>\n",
       "      <td>10363.0</td>\n",
       "      <td>0.007553</td>\n",
       "      <td>0.052725</td>\n",
       "      <td>-0.204762</td>\n",
       "      <td>-0.018292</td>\n",
       "      <td>0.005361</td>\n",
       "      <td>0.030564</td>\n",
       "      <td>0.217817</td>\n",
       "    </tr>\n",
       "    <tr>\n",
       "      <th>Ventura</th>\n",
       "      <td>3144.0</td>\n",
       "      <td>0.008815</td>\n",
       "      <td>0.056588</td>\n",
       "      <td>-0.203798</td>\n",
       "      <td>-0.018877</td>\n",
       "      <td>0.005491</td>\n",
       "      <td>0.031985</td>\n",
       "      <td>0.217128</td>\n",
       "    </tr>\n",
       "  </tbody>\n",
       "</table>\n",
       "</div>"
      ],
      "text/plain": [
       "               count      mean       std       min       25%       50%  \\\n",
       "county                                                                   \n",
       "Los_Angeles  22802.0  0.004948  0.062256 -0.204664 -0.026066  0.005349   \n",
       "Orange       10363.0  0.007553  0.052725 -0.204762 -0.018292  0.005361   \n",
       "Ventura       3144.0  0.008815  0.056588 -0.203798 -0.018877  0.005491   \n",
       "\n",
       "                  75%       max  \n",
       "county                           \n",
       "Los_Angeles  0.034278  0.218255  \n",
       "Orange       0.030564  0.217817  \n",
       "Ventura      0.031985  0.217128  "
      ]
     },
     "execution_count": 34,
     "metadata": {},
     "output_type": "execute_result"
    }
   ],
   "source": [
    "train.groupby('county').logerror.describe()"
   ]
  },
  {
   "cell_type": "markdown",
   "id": "951a8572-b6c1-4199-b56e-f73bd6f452e6",
   "metadata": {},
   "source": [
    "#### Takeaways\n",
    "- Most houses in order by county are LA, Orange, Ventura\n",
    "- 50% values are very similar, lower 25%/upper 75% is where LA stands apart"
   ]
  },
  {
   "cell_type": "markdown",
   "id": "34a577dc-3923-467a-a51b-d8a86813777a",
   "metadata": {},
   "source": [
    "# How does age affect logerror?"
   ]
  },
  {
   "cell_type": "code",
   "execution_count": 39,
   "id": "80966303-e0f3-48b1-9a53-91083885f5cf",
   "metadata": {},
   "outputs": [
    {
     "ename": "AttributeError",
     "evalue": "'DataFrame' object has no attribute 'logerrer'",
     "output_type": "error",
     "traceback": [
      "\u001b[0;31m---------------------------------------------------------------------------\u001b[0m",
      "\u001b[0;31mAttributeError\u001b[0m                            Traceback (most recent call last)",
      "\u001b[0;32m/var/folders/dy/6l70n7994h596yst0fdjbly40000gn/T/ipykernel_53995/2878365336.py\u001b[0m in \u001b[0;36m<module>\u001b[0;34m\u001b[0m\n\u001b[0;32m----> 1\u001b[0;31m \u001b[0mtrain\u001b[0m\u001b[0;34m[\u001b[0m\u001b[0;34m[\u001b[0m\u001b[0;34m'age'\u001b[0m\u001b[0;34m]\u001b[0m\u001b[0;34m]\u001b[0m\u001b[0;34m.\u001b[0m\u001b[0mlogerrer\u001b[0m\u001b[0;34m.\u001b[0m\u001b[0mmean\u001b[0m\u001b[0;34m(\u001b[0m\u001b[0;34m)\u001b[0m\u001b[0;34m\u001b[0m\u001b[0;34m\u001b[0m\u001b[0m\n\u001b[0m",
      "\u001b[0;32m/usr/local/anaconda3/lib/python3.9/site-packages/pandas/core/generic.py\u001b[0m in \u001b[0;36m__getattr__\u001b[0;34m(self, name)\u001b[0m\n\u001b[1;32m   5485\u001b[0m         ):\n\u001b[1;32m   5486\u001b[0m             \u001b[0;32mreturn\u001b[0m \u001b[0mself\u001b[0m\u001b[0;34m[\u001b[0m\u001b[0mname\u001b[0m\u001b[0;34m]\u001b[0m\u001b[0;34m\u001b[0m\u001b[0;34m\u001b[0m\u001b[0m\n\u001b[0;32m-> 5487\u001b[0;31m         \u001b[0;32mreturn\u001b[0m \u001b[0mobject\u001b[0m\u001b[0;34m.\u001b[0m\u001b[0m__getattribute__\u001b[0m\u001b[0;34m(\u001b[0m\u001b[0mself\u001b[0m\u001b[0;34m,\u001b[0m \u001b[0mname\u001b[0m\u001b[0;34m)\u001b[0m\u001b[0;34m\u001b[0m\u001b[0;34m\u001b[0m\u001b[0m\n\u001b[0m\u001b[1;32m   5488\u001b[0m \u001b[0;34m\u001b[0m\u001b[0m\n\u001b[1;32m   5489\u001b[0m     \u001b[0;32mdef\u001b[0m \u001b[0m__setattr__\u001b[0m\u001b[0;34m(\u001b[0m\u001b[0mself\u001b[0m\u001b[0;34m,\u001b[0m \u001b[0mname\u001b[0m\u001b[0;34m:\u001b[0m \u001b[0mstr\u001b[0m\u001b[0;34m,\u001b[0m \u001b[0mvalue\u001b[0m\u001b[0;34m)\u001b[0m \u001b[0;34m->\u001b[0m \u001b[0;32mNone\u001b[0m\u001b[0;34m:\u001b[0m\u001b[0;34m\u001b[0m\u001b[0;34m\u001b[0m\u001b[0m\n",
      "\u001b[0;31mAttributeError\u001b[0m: 'DataFrame' object has no attribute 'logerrer'"
     ]
    }
   ],
   "source": [
    "# fit with KMeans\n",
    "\n",
    "X = train[['age', 'county']]\n",
    "kmeans = KMeans(n_clusters = 4)\n",
    "kmeans.fit(X)\n",
    "\n",
    "# using .labels_ function works for fitting the train data, kmeans.predict(X) will be needed for unseen data (validate/test)\n",
    "train['cluster'] = kmeans.predict(X)\n",
    "\n",
    "train_scaled\n",
    "train_scaled.head()"
   ]
  },
  {
   "cell_type": "code",
   "execution_count": null,
   "id": "fa02739b-3859-4980-9ad6-6b9391aef645",
   "metadata": {},
   "outputs": [],
   "source": []
  }
 ],
 "metadata": {
  "kernelspec": {
   "display_name": "Python 3 (ipykernel)",
   "language": "python",
   "name": "python3"
  },
  "language_info": {
   "codemirror_mode": {
    "name": "ipython",
    "version": 3
   },
   "file_extension": ".py",
   "mimetype": "text/x-python",
   "name": "python",
   "nbconvert_exporter": "python",
   "pygments_lexer": "ipython3",
   "version": "3.9.7"
  }
 },
 "nbformat": 4,
 "nbformat_minor": 5
}
